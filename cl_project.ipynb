{
  "cells": [
    {
      "cell_type": "code",
      "execution_count": 3,
      "metadata": {
        "colab": {
          "base_uri": "https://localhost:8080/"
        },
        "id": "-eWKPsu6otCe",
        "outputId": "c0bccd42-3dea-407f-e300-92821196ee77"
      },
      "outputs": [
        {
          "output_type": "stream",
          "name": "stdout",
          "text": [
            "Looking in indexes: https://pypi.org/simple, https://us-python.pkg.dev/colab-wheels/public/simple/\n",
            "Collecting pytelegrambotapi\n",
            "  Downloading pyTelegramBotAPI-4.10.0.tar.gz (222 kB)\n",
            "\u001b[2K     \u001b[90m━━━━━━━━━━━━━━━━━━━━━━━━━━━━━━━━━━━━━━━\u001b[0m \u001b[32m222.9/222.9 KB\u001b[0m \u001b[31m4.5 MB/s\u001b[0m eta \u001b[36m0:00:00\u001b[0m\n",
            "\u001b[?25h  Preparing metadata (setup.py) ... \u001b[?25l\u001b[?25hdone\n",
            "Requirement already satisfied: requests in /usr/local/lib/python3.8/dist-packages (from pytelegrambotapi) (2.25.1)\n",
            "Requirement already satisfied: urllib3<1.27,>=1.21.1 in /usr/local/lib/python3.8/dist-packages (from requests->pytelegrambotapi) (1.24.3)\n",
            "Requirement already satisfied: certifi>=2017.4.17 in /usr/local/lib/python3.8/dist-packages (from requests->pytelegrambotapi) (2022.12.7)\n",
            "Requirement already satisfied: idna<3,>=2.5 in /usr/local/lib/python3.8/dist-packages (from requests->pytelegrambotapi) (2.10)\n",
            "Requirement already satisfied: chardet<5,>=3.0.2 in /usr/local/lib/python3.8/dist-packages (from requests->pytelegrambotapi) (4.0.0)\n",
            "Building wheels for collected packages: pytelegrambotapi\n",
            "  Building wheel for pytelegrambotapi (setup.py) ... \u001b[?25l\u001b[?25hdone\n",
            "  Created wheel for pytelegrambotapi: filename=pyTelegramBotAPI-4.10.0-py3-none-any.whl size=205420 sha256=ffaf7d1d961f46720a1c1f17ec80304eb61d8002ceb5551207aa35534c98341f\n",
            "  Stored in directory: /root/.cache/pip/wheels/ee/e3/f1/4c142d3be2e5f09c1ba8bf5801ae61d7b2cfd9afe497872806\n",
            "Successfully built pytelegrambotapi\n",
            "Installing collected packages: pytelegrambotapi\n",
            "Successfully installed pytelegrambotapi-4.10.0\n"
          ]
        }
      ],
      "source": [
        "!pip install pytelegrambotapi"
      ]
    },
    {
      "cell_type": "code",
      "source": [
        "import telebot\n",
        "from telebot import types"
      ],
      "metadata": {
        "id": "geom3fgORZVx"
      },
      "execution_count": 4,
      "outputs": []
    },
    {
      "cell_type": "code",
      "source": [
        "import random\n",
        "from random import choice"
      ],
      "metadata": {
        "id": "jjtDlXHFd86c"
      },
      "execution_count": 5,
      "outputs": []
    },
    {
      "cell_type": "code",
      "execution_count": 6,
      "metadata": {
        "id": "BHu07pU7qYz2"
      },
      "outputs": [],
      "source": [
        "# bot = telebot.TeleBot('5457646938:AAEZPj7_0ZACFxW_uQWJHGUtbmS31zJhkf8') это был мой токен, я ниже верну ваш\n",
        "your_bot = '6130861114:AAF3SiEOvgr3aBTEmoaQoj8Fuo5MNT5W6qc'\n",
        "bot = telebot.TeleBot(your_bot)"
      ]
    },
    {
      "cell_type": "code",
      "source": [
        "  bot = telebot.TeleBot(your_bot)\n",
        " \n",
        "  @bot.message_handler(commands=[\"start\"])\n",
        "  def start(message):\n",
        "   markup=types.ReplyKeyboardMarkup(resize_keyboard=True)\n",
        "   item1=types.KeyboardButton(\"Set expressions\")\n",
        "   item2=types.KeyboardButton(\"Grammar\")\n",
        "   item3=types.KeyboardButton(\"Society\")\n",
        "   item4=types.KeyboardButton(\"Religions\")\n",
        "   item5=types.KeyboardButton(\"Military terms\")\n",
        "   item6=types.KeyboardButton(\"Test\")\n",
        "   markup.row(item1) \n",
        "   markup.row(item2)\n",
        "   markup.row(item3)\n",
        "   markup.row(item4)\n",
        "   markup.row(item5)\n",
        "   markup.row(item6)\n",
        "   bot.send_message(message.chat.id, 'Выберите раздел', reply_markup=markup)\n",
        "  \n",
        "  @bot.message_handler(content_types=[\"text\"])\n",
        "  def handle_text(message):\n",
        "   if message.text.strip() == 'Set expressions':\n",
        "    text1 = 'give or take – приблизительно, плюс-минус. Example: Jon - How many people live here?(Сколько людей живут здесь?) Tyrion - A million, give or take.(Миллион, плюс-минус)'\n",
        "    text2 = 'to have one\\'s word – давать слово. Example: Cersei to Daenerys - Your capital will be safe until the Northern treat is dealt with. You have my word. (Ваша столица останется цела до тех пор, пока мы не покончим с угрозой с Севера.)'\n",
        "    text3 = 'to get on with it - приступить к делу, покончить с этим. Example: Arya - And what does honor demand? (И чего же требует долг?) Sansa - That I defend my family from those who would harm us. That I defend the North from those who would betray us. (Что я должна защитить свою семью от тех, кто желает навредить ей. Что я защищаю Север от тех, что предаст нас). Arya - All right, then. Get on with it. (Ну что ж, давай покончим с этим.)'\n",
        "    text4 = 'to swear fealty to somebody \\ to swear to somebody - присягать на верность. Example: Brienne - I swore to Renly, the only king of the Seven Kingdoms. (Я присягнула на верность Ренли, единственному королю Семи Королевств.)'\n",
        "    text5 = 'to bend the knee - преклонить колено. Example: Daenerys - I offer you a choice, bend the knee and join me. Together we will leave the world a better place than we found it. Or refuse and die. (Я предлагаю вам выбор, преклоните колено и присоединяйтесь ко мне. Вместе мы сделаем мир лучше. Или откажитесь и умрите.)'\n",
        "    text6 = 'the Realm\\'s Delight - отрада королевства. Example: Rhaenyra Targaryen, cheered as the Realm\\'s Delight when she was young, and later called the Half-Year Queen. (Рейнира Таргариен по прозвищу Отрада Королевства (в юности) и Королева-на-полгода.)'\n",
        "    text7 = 'to drive someone to conquest - побудить, подтолнуть к завоеванию. Example: Viserys - But ambition alone is not what drove him to conquest Westeros. (Не только лишь честолюбие побудило его завоевать Вестерос.)'\n",
        "    text8 = 'to expect not – надеяться, что нет. Example: Cersei - The darkness is coming for us all. We\\'ll face it together. And when the Great War is over, perhaps you\\'ll remember I chose to help with no promises or assurances from any of you. I expect not. (Тьма настигнет нас всех. Мы встретим её вместе. И когда Великая Война закончится, возможно, вы будете помнить, что я согласилась помочь вам без всяких обещаний или уверений от кого-либо из вас. Надеюсь, что нет.)'\n",
        "    text9 = 'no middle ground - третьего не дано, нет альтернативы. Example: Cersei - When you play the game of thrones you win or you die. There is no middle ground. (Если ты играешь в Игры престолов, то либо побеждаешь, либо умираешь. Третьего не дано.)'\n",
        "    text10 = 'to send somebody\\’s regards to someone - передавать привет. Example - Jaime: The Lannisters send their regards.'\n",
        "    texts = [text1, text2, text3, text4, text5, text6, text7, text8, text9, text10]\n",
        "    img1 = open('robert-baratheon-free.gif', 'rb')\n",
        "    img2 = open('tyrion.gif', 'rb')\n",
        "    img3 = open('pod.gif', 'rb')\n",
        "    img4 = open('robb.gif', 'rb')\n",
        "    img5 = open('tyrlan.gif', 'rb')\n",
        "    img6 = open('got-welcome.gif', 'rb')\n",
        "    img7 = open('cersei.gif', 'rb')\n",
        "    imgs = [img1, img2, img3, img4, img5, img6, img7]\n",
        "    bot.send_message(message.chat.id, random.choice(texts))\n",
        "    bot.send_animation(message.chat.id, random.choice(imgs))\n",
        "    \n",
        "   elif message.text.strip() == 'Grammar':\n",
        "    grammartext1 = 'Выражение “I wish + Past Simple” используется при высказывании сожаления о практически невозможном событии. Example: I wish I was the monster you think I am. Жаль, что я не то чудовище, которым вы меня считаете. Тирион Ланнистер'\n",
        "    grammartext2 = 'В случаях, когда мы стоим перед выбором равноценных предметов, действий и т. д., мы используем конструкции either or (или...или) и neither nor(ни...ни). Neither gods nor men will ever compel me to let you turn Casterly Rock into your whorehouse. Ни боги, ни люди никогда не заставят меня позволить тебе превратить Утес Кастерли в твой бордель. Тайвин Ланнистер'\n",
        "    grammartext3 = 'Условное предложение нулевого типа образуется по формуле: If + Present Simple, + Present Simple. Такой тип условных предложений позволяет дать инструкцию, как в изречении Петира, или же говорить об общеизвестных фактах, некой истине. Always keep your foes confused. If they are never certain who you are or what you want, they cannot know what you are like to do next. Всегда держи врагов в смятении. Если они не уверены, кто вы и чего хотите, они не могут знать, что вы собираетесь делать дальше. Петир Бейлиш'\n",
        "    grammartext4 = 'Грамматическая конструкция the more/less ... the more/less (чем больше/меньше ... тем больше/меньше) поможет вам описать градацию чего-либо. The more people you love the weaker you are. Чем больше людей ты любишь, тем ты слабее. Серсея Ланнистер'\n",
        "    grammartext5 = 'Существительное snow чаще всего неисчисляемое и обозначает снег, но если мы имеем в виду снегопад, говорим snows. When the snows fall and the white winds blow, the lone wolf dies but the pack survives.  Там, где снега падают и дует белый ветер, одинокий волк умирает, но стая выживает. Санса Старк'\n",
        "    grammartext6 = 'Конструкция to be going to do smth (намереваться что-либо сделать). С ее помощью вы можете сказать о каких-то намерениях и планах на будущее. Еще на основании очевидных фактов при помощи to be going to do smth можно предсказать будущее. I was never going to be as good a lady as you. So I had to be something else. Я никогда не собиралась становиться такой же хорошей леди, как ты. Поэтому мне пришлось стать кем-то другим. Арья Старк'\n",
        "    grammartext7 = 'Условное предложение первого типа. Оно выражает действие, которое с большой долей вероятности произойдет при соблюдении указанного условия. Такие предложения строятся по формуле: If + Present Simple, + Future Simple. I value your advice, but if you ever question me in front of strangers again, you’ll be advising someone else. Ценю твой совет, но если ты еще раз подвергнешь сомнению мои решения перед незнакомцами, будешь давать советы в другом месте. Дейенерис Таргариен'\n",
        "    grammartext8 = 'Пассивный залог в настоящем времени образуется по формуле: Подлежащее + am/is/are + третья форма глагола. Never forget what you are. The rest of the world will not. Wear it like armor. And it can never be used to hurt you. Никогда не забывай, кто ты. Остальной мир не забудет. Носи это, как броню. И ее никогда не смогут использовать, чтобы навредить тебе. Тирион Ланнистер'\n",
        "    grammartext9 = 'Рамси использует время Present Perfect Continuous, которое образуется по формуле: has/have + been и основной глагол с окончанием - ing, чтобы подчеркнуть, что его собеседник на протяжении длительного времени и по настоящий момент не придавал внимания происходящему. If you think this has a happy ending, you haven’t been paying attention. — Если ты думаешь, что у этого будет счастливый конец, ты не был особо внимательным. Рамси Болтон'\n",
        "    grammartext10 = 'Неопределенный артикль a перед именем собственным в значении «один из». I am a Stark, yes, I can be brave. Да, я Старк. Я могу быть храбрМ первого типа. Оно выражает действие, которое с большой долей вероятности произойдет при соблюдении указанного условия. Такие предложения строятся по формуле: If + Present Simple, + Future Simple. I value your advice, but if you ever question me in front of strangers again, you’ll be advising someone else. Ценю твой совет, но если ты еще раз подвергнешь сомнению мои решения перед незнакомцами, будешь давать советы в другом месте. Дейенерис Таргариен'\n",
        "    grammartexts = [grammartext1, grammartext2,grammartext3, grammartext4, grammartext5, grammartext6, grammartext7, grammartext8, grammartext9, grammartext10]\n",
        "    im1 = open('1.gif', 'rb')\n",
        "    im2 = open('2.gif', 'rb')\n",
        "    im3 = open('3.gif', 'rb')\n",
        "    im4 = open('4.gif', 'rb')\n",
        "    im5 = open('5.gif', 'rb')\n",
        "    im6 = open('6.gif', 'rb')\n",
        "    im7 = open('7.gif', 'rb')\n",
        "    im8 = open('8.gif', 'rb')\n",
        "    im9 = open('9.gif', 'rb')\n",
        "    im10 = open('10.gif', 'rb')\n",
        "    ims = [im1, im2, im3, im4, im5, im6, im7, im8, im9, im10]\n",
        "    bot.send_message(message.chat.id, random.choice(grammartexts))\n",
        "    bot.send_animation(message.chat.id, random.choice(ims))\n",
        "\n",
        "   elif message.text.strip() == 'Society':\n",
        "    v2 = 'Социальное устройство Семи Королевств основано на феодализме в средневековой Европе, но в несколько упрощенной форме. Примечательно, что основные феодальные понятия «сюзерен» и «вассал» в книге не упоминаются. Вместо этого используются термины «лорд» (lord) и «знаменосец» (bannerman).'\n",
        "    v3 = 'Король (the King) – верховный правитель Семи Королевств.'\n",
        "    v4 = 'Королю помогает Малый совет (Small Council), в которых входят семь человек.'\n",
        "    v5 = 'Десница короля (Hand of the King) – возглавляет Малый совет, замещает короля в его отсутствие.'\n",
        "    v6 = 'Мастер над монетой (Master of Coin) – отвечает за финансы Семи Королевств.'\n",
        "    v7 = 'Мастер над шептунами (Master of Whisperers) – руководит разведкой, шпионами (шептунами), отвечает за сбор информации.'\n",
        "    v8 = 'Мастер над законами (Master of Laws) – советник по правовым вопросам.'\n",
        "    v9 = 'Мастер над кораблями (Master of Ships) – командующий Королевским флотом.'\n",
        "    v10 = 'Лорд-командующий Королевской гвардии (Lord Commander of the Kingsguard) – возглавляет Королевскую гвардию, отряд элитных рыцарей, защищающих короля и его семью.'\n",
        "    v11 = 'Великий мейстер (Grand Maester) – представитель Ордена мейстеров, ученых и лекарей.'\n",
        "    v12 = 'Верховные лорды (lords) — правители великих домов.Термин «верховные лорды» (overlords, highlords) не используется, их называют просто «lords».'\n",
        "    v13 = 'Лорды \\ правители (lords) — представители благородных домов. Являются знаменосцами (bannermen), то есть вассалами, своих более знатных господ.'\n",
        "    v14 = 'Рыцари (knights) — состоят на службе у лордов, которым присягают на верность. К рыцарю обращаются «сир» (ser).'\n",
        "    v15 = 'Благородные (nobles) — представители знатных, благородных семей. Все благородные по умолчанию имели больше прав, чем простолюдины. Далеко не все благородные становились правителями и рыцарями.'\n",
        "    v16 = 'Народ (smallfolk, commonpeople) — крестьяне (peasants), ремесленники (craftsmen), слуги (servants) и прочие простые жители Семи Королевств. Они платят налоги (taxes) лорду, также могут быть призваны в солдаты (soldiers).'\n",
        "    v17 = 'Служанки (handmaidens, handmaids) — девушки из благородных семей, состоящие на службе у леди (благородных дам) или даже королевы. Обычно слова servant и handmaiden переводятся как «служанка», но первые — это неблагородная прислуга из простолюдинов, а вторые — вполне достойная профессия для юной леди.'\n",
        "    v18 = 'Бастарды (bastards) — незаконнорожденные дети благородных отцов.'\n",
        "    v19 = 'Наемники (sellswords) — воины самого разного происхождения (от благородных до бывших рабов), сражающиеся за деньги.'\n",
        "    v20 = 'Рабы (slaves) — низшая социальная ступень. Рабство запрещено в Вестеросе, так как противоречит религии (вера в Семерых), но процветает в Эссосе.'\n",
        "    ig1 = open('a.gif', 'rb')\n",
        "    ig2 = open('b.gif', 'rb')\n",
        "    ig3 = open('c.gif', 'rb')\n",
        "    ig4 = open('d.gif', 'rb')\n",
        "    ig5 = open('e.gif', 'rb')\n",
        "    ig6 = open('f.gif', 'rb')\n",
        "    ig7 = open('g.gif', 'rb')\n",
        "    ig8 = open('h.gif', 'rb')\n",
        "    igs = [ig1, ig2, ig3, ig4, ig5, ig6, ig7, ig8]\n",
        "    vs = [v2, v3, v4, v5, v6, v7, v8, v9, v10, v11, v12, v13, v14, v15, v16, v17, v18, v19, v20]\n",
        "    bot.send_message(message.chat.id, random.choice(vs))\n",
        "    bot.send_animation(message.chat.id, random.choice(igs))\n",
        "\n",
        "   elif message.text.strip() == 'Religions':\n",
        "    mr1 = 'Старые Боги Леса (Old Gods of the Forest) — вера в безымянных древних духов леса. Религия, исповедуемая преимущественно северянами.'\n",
        "    mr2 = 'Вера в Семерых (Faith of the Seven) — основная религия Вестероса, представляет собой веру в одного бога, у которо семь лиц, символизирующих важнейшие аспекты жизни. Аналогом церкви является септа (sept). Мужчина служитель культа — септон (septon), женщина — септа (septa). В русском переводе слова «септа» в значениях «церковь» и «служительница» совпадают, однако в оригинале они, как видите, разные.'\n",
        "    mr3 = 'Утонувший Бог (Drowned God) — ему поклоняются жители Железных Островов.'\n",
        "    mr4 = 'Р’глор (или Рглор), Владыка Света (R’hllor, the Lord of Light ) — огненное божество из восточных земель. Служители Р’глора считают других богов ложными. В сериале слово «Р’глор» практически не используется, его называют Владыкой Света (the Lord of Light).'\n",
        "    mr5 = 'Многоликий Бог Смерти (The Many-faced God of Death) — бог, почитаемый орденом Безликих (Faceless Men) в Браавосе.'\n",
        "    mr6 = 'Великий Жеребец (Great Stallion) — бог-жеребец, которому поклоняются дотракийцы.'\n",
        "    mrs = [mr1, mr2, mr3, mr4, mr5, mr6]\n",
        "    ph1 = open('rel1.gif', 'rb')\n",
        "    ph2 = open('rel2.gif', 'rb')\n",
        "    ph3 = open('00001.gif', 'rb')\n",
        "    ph4 = open('rel4.gif', 'rb')\n",
        "    phs = [ph1, ph2, ph3, ph4]\n",
        "    bot.send_message(message.chat.id, random.choice(mrs))\n",
        "    bot.send_animation(message.chat.id, random.choice(phs))\n",
        "\n",
        "   elif message.text.strip() == 'Military terms':\n",
        "    t1 = 'Большинство военных терминов в книге и сериале соответствует реальным историческим прототипам. Военное дело примерно соответствует средневековью, но в упрощенном виде.'\n",
        "    t2 = 'Вымышленными являются, в основном, термины, относящиеся к культуре дотракийцев. Дотракийская орда называется кхаласар (khalasar), ее возглавляет кхал (khal), а его жену называю кхалиси (khaleesi). Традиционное оружие ближнего боя дотракийцев — аракх (arakh), изогнутый меч в форме полумесяца.'\n",
        "    t3 = 'Bымышленными также являются особые материалы Валирийская сталь (Valyrian steel) — ценный сплав, производившийся много веков назад в Валирии, и древесина железностволов (ironwood) — крепкое и почти не поддающееся огню дерево.'\n",
        "    t4 = 'Отчасти вымышленным можно назвать материал драконье стекло (dragonglass), хотя по сути это реально существующая горная порода обсидиан (obsidian).'\n",
        "    t6 = 'Армия (army) состоит из пехоты (footsoldiers) и кавалерии (cavalry). Наиболее значимые воины в ней — рыцари (knights).'\n",
        "    t7 = 'Рыцарь облачен в тяжелый латный доспех (plate armor), его основное оружие — длинное копье (lance), также рыцари вооружены мечом (sword), в бою защищаются щитом (shield).'\n",
        "    t8 = 'Пехота может быть вооружена самым разным оружием: мечами (swords), копьями (spears), боевыми молотами (warhammers), топорами (axes).'\n",
        "    t9 = 'Они носят, как правило, легкую броню (light armor): кожаный доспех (leather armor), кольчугу (chainmail). Вспомогательным оружием воинов может быть кинжал (dagger) или нож (knife).'\n",
        "    t10 = 'До печально известного \"Танца драконов\" наиболее опасным оружием являлся дракон (dragon). У большинства из существующих драконов был свой всадник (dragon rider), потомок династии Таргариенов.'\n",
        "    ts = [t2, t3, t4, t6, t7, t8, t9, t10]\n",
        "    pht1 = open('001.gif', 'rb')\n",
        "    pht2 = open('tar1.gif', 'rb')\n",
        "    pht3 = open('tar2.gif', 'rb')\n",
        "    pht4 = open('tar3.gif', 'rb')\n",
        "    pht5 = open('tar4.gif', 'rb')\n",
        "    pht6 = open('tar5.gif', 'rb')\n",
        "    phts = [pht1, pht2, pht3, pht4, pht5, pht6]\n",
        "    bot.send_message(message.chat.id, t1)\n",
        "    bot.send_message(message.chat.id, random.choice(ts))\n",
        "    bot.send_animation(message.chat.id, random.choice(phts))\n",
        "\n",
        "   \n",
        "   elif message.text.strip() == 'Test':\n",
        "     q1 = 'Some old wounds never truly heal, and bleed again at *slight* word. (c) POV Eddard Какая форма прилагательного slight будет грамматически правильной?'\n",
        "     a1 = ' Correct answer: the slightest'\n",
        "     q2 = 'Why is it that when one man *build* a wall, the next man immediately needs to know what\\'s on the other side? (c) POV Jon Какая форма глагола build будет в данном случае грамматически правильной?'\n",
        "     a2 = ' Correct answer: builds'\n",
        "     q3 = 'If I *look* back I *be* lost. (c) Daenerys Какие формы глаголов look и be будут грамматически правильными в данном условном предложении?'\n",
        "     a3 = ' Correct answer: look, am'\n",
        "     q4 = 'Every flight begins ___ a fall. (c) POV Bran Какой подходящий по смыслу предлог пропущен?'\n",
        "     a4 = ' Correct answer: with'\n",
        "     q5 = 'The man who *fear* проигрыш *lose* already. (c) POV Arya Какие формы глаголов fear и lose будут грамматически правильными в данном предложении? Как бы Вы перевели слово \"проигрыш\"?'\n",
        "     a5 = ' Correct answer: fears, has already lost, проигрыш - losing'\n",
        "     q6 = 'It\\'s four less fingernails to clean. (c) Davos Seaworth. Какая грамматическая ошибка присутствует в данном предложении?'\n",
        "     a6 = ' Correct answer: less - fewer. It\\'s four fewer fingernails to clean.' \n",
        "     q7 = 'Expressing the future. Accoring to Daenerys\\' schedule , she ... *feed* her dragons at sunset tomorrow.'\n",
        "     a7 = ' Correct answer: is going to feed'\n",
        "     q8 = 'We ___ at the same stars and see such different things (c) Jon Snow. Какой подходящий по смыслу фразовый глагол пропущен?'\n",
        "     a8 = ' Correct answer: look up'\n",
        "     q9 = 'Show *чересчур много* kindness, people *not fear* you. If they *not fear* you, they *not follow* you. (c) Stannis Baratheon. Подберите английский эквивалент к \"чересчур много\" и поставьте глаголы в грамматически правильные формы.'\n",
        "     a9 = ' Correct answer: Show too much kindness, people won’t fear you. If they don’t fear you, they don’t follow you.'\n",
        "     q10 = 'You’re *i* as I’m *you*. And if we die, we die. But first we’ll live. Поставьте местоимения в грамматически правильную форму.'\n",
        "     a10 = ' Correct answer: mine, yours'\n",
        "     a = [q1 + a1]\n",
        "     b = [q2 + a2]\n",
        "     c = [q3 + a3]\n",
        "     d = [q4 + a4]\n",
        "     e = [q5 + a5]\n",
        "     f = [q6 + a6]\n",
        "     g = [q7 + a7]\n",
        "     h = [q8 + a8]\n",
        "     i = [q9 + a9]\n",
        "     j = [q10 +a10]\n",
        "     qs = [a, b, c, d, e, f, g, h, i, j]\n",
        "     pic1 = open('test1.gif', 'rb')\n",
        "     pic2 = open('test2.gif', 'rb') \n",
        "     pic3 = open('test3.gif', 'rb')\n",
        "     pic4 = open('test4.gif', 'rb')\n",
        "     pic5 = open('test5.gif', 'rb')  \n",
        "     pic6 = open('test6.gif', 'rb') \n",
        "     pic7 = open('test7.gif', 'rb') \n",
        "     pic8 = open('test8.gif', 'rb')\n",
        "     pic9 = open('test9.gif', 'rb')  \n",
        "     pics = [pic1, pic2, pic3, pic4, pic5, pic6, pic7, pic8, pic9]\n",
        "     bot.send_message(message.chat.id, random.choice(qs))\n",
        "     bot.send_animation(message.chat.id, random.choice(pics))\n",
        "     \n",
        "       \n",
        "       \n",
        "\n",
        "     \n",
        "\n",
        "    \n",
        "\n",
        "bot.polling(none_stop=True, interval=0)"
      ],
      "metadata": {
        "id": "htyc9Ckmbgqj"
      },
      "execution_count": null,
      "outputs": []
    },
    {
      "cell_type": "code",
      "source": [],
      "metadata": {
        "id": "5AIfMwrLGH5v"
      },
      "execution_count": null,
      "outputs": []
    },
    {
      "cell_type": "code",
      "source": [],
      "metadata": {
        "id": "m11IyQLQCIhF"
      },
      "execution_count": null,
      "outputs": []
    },
    {
      "cell_type": "code",
      "source": [],
      "metadata": {
        "id": "lilBAs0DyMQG"
      },
      "execution_count": null,
      "outputs": []
    },
    {
      "cell_type": "code",
      "source": [],
      "metadata": {
        "id": "m9oMQIT-wIhI"
      },
      "execution_count": null,
      "outputs": []
    },
    {
      "cell_type": "code",
      "source": [],
      "metadata": {
        "id": "gPw7RqTP1VX4"
      },
      "execution_count": null,
      "outputs": []
    },
    {
      "cell_type": "code",
      "source": [],
      "metadata": {
        "id": "lyt8BZv5zuhk"
      },
      "execution_count": null,
      "outputs": []
    },
    {
      "cell_type": "code",
      "source": [],
      "metadata": {
        "id": "OMt2RBdBmYaI"
      },
      "execution_count": null,
      "outputs": []
    },
    {
      "cell_type": "code",
      "source": [],
      "metadata": {
        "id": "AJ4rAzXOdXqn"
      },
      "execution_count": null,
      "outputs": []
    },
    {
      "cell_type": "code",
      "source": [],
      "metadata": {
        "id": "2RMfFhA0d5hA"
      },
      "execution_count": null,
      "outputs": []
    },
    {
      "cell_type": "code",
      "source": [],
      "metadata": {
        "id": "cMY_DEWId7cx"
      },
      "execution_count": null,
      "outputs": []
    }
  ],
  "metadata": {
    "colab": {
      "provenance": []
    },
    "kernelspec": {
      "display_name": "Python 3",
      "name": "python3"
    },
    "language_info": {
      "name": "python"
    }
  },
  "nbformat": 4,
  "nbformat_minor": 0
}